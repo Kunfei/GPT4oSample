{
 "cells": [
  {
   "cell_type": "markdown",
   "metadata": {},
   "source": [
    "# Function Definition and initialization"
   ]
  },
  {
   "cell_type": "code",
   "execution_count": null,
   "metadata": {},
   "outputs": [],
   "source": [
    "import hashlib\n",
    "import os\n",
    "import requests\n",
    "import json\n",
    "import sys\n",
    "from openai import AzureOpenAI\n",
    "\n",
    "from config.azure_openai_config import API_KEY, AZURE_ENDPOINT"
   ]
  },
  {
   "cell_type": "code",
   "execution_count": null,
   "metadata": {},
   "outputs": [],
   "source": [
    "def generate_image(prompt, show_image=False, quality=None ,imageCount=1, size=None):\n",
    "    client = AzureOpenAI(\n",
    "        api_version=\"2024-02-01\",\n",
    "        api_key=API_KEY,  \n",
    "        azure_endpoint=AZURE_ENDPOINT,\n",
    "    )\n",
    "\n",
    "    if imageCount not in [1, 2, 4]:\n",
    "        print(\"imageCount should be 1, 2, or 4\")\n",
    "        imageCount = 1\n",
    "    if size is not None:\n",
    "        sizeS = size\n",
    "    try :\n",
    "        result = client.images.generate(\n",
    "            model=\"dalle3\",\n",
    "            prompt=prompt,\n",
    "            n=imageCount,\n",
    "            quality=quality,\n",
    "            size=sizeS,\n",
    "        )\n",
    "    except Exception as e:\n",
    "        print(f\"Error generating image: {e}\")\n",
    "        return None\n",
    "    \n",
    "    json_response = json.loads(result.model_dump_json())\n",
    "\n",
    "    image_filenames = []\n",
    "    for i in range(imageCount):\n",
    "        image_url = json_response[\"data\"][i][\"url\"]  # extract image URL from response\n",
    "        generated_image = requests.get(image_url).content  # download the image\n",
    "\n",
    "        checksum = hashlib.md5(generated_image).hexdigest()\n",
    "        image_filename = f\"{checksum}.png\"\n",
    "\n",
    "        image_dir = os.path.join(os.curdir, 'images')\n",
    "        if not os.path.isdir(image_dir):\n",
    "            os.mkdir(image_dir)\n",
    "        \n",
    "        image_path = os.path.join(image_dir, image_filename)\n",
    "\n",
    "        with open(image_path, \"wb\") as image_file:\n",
    "            image_file.write(generated_image)\n",
    "\n",
    "        image_filenames.append(image_filename)\n",
    "\n",
    "    if imageCount == 1:\n",
    "        return image_filename\n",
    "    else:\n",
    "        return image_filenames"
   ]
  },
  {
   "cell_type": "code",
   "execution_count": null,
   "metadata": {},
   "outputs": [],
   "source": [
    "from PIL import Image\n",
    "import matplotlib.pyplot as plt\n",
    "\n",
    "def show_image(image_path):\n",
    "    try:\n",
    "        image = Image.open(image_path)\n",
    "        plt.imshow(image)\n",
    "        plt.axis('off')  # 不顯示坐標軸\n",
    "        plt.show()\n",
    "    except Exception as e:\n",
    "        print(f\"無法顯示圖像: {e}\")"
   ]
  },
  {
   "cell_type": "code",
   "execution_count": null,
   "metadata": {},
   "outputs": [],
   "source": [
    "prompt = \"photorealistic, if there is no love, what then, surreal, finely detailed, explained\"\n",
    "filename = generate_image(prompt, size=\"1024x1024\")\n",
    "if filename:\n",
    "    print(filename)\n",
    "    show_image('images/' + filename)"
   ]
  }
 ],
 "metadata": {
  "kernelspec": {
   "display_name": "finlab",
   "language": "python",
   "name": "python3"
  },
  "language_info": {
   "codemirror_mode": {
    "name": "ipython",
    "version": 3
   },
   "file_extension": ".py",
   "mimetype": "text/x-python",
   "name": "python",
   "nbconvert_exporter": "python",
   "pygments_lexer": "ipython3",
   "version": "3.9.18"
  }
 },
 "nbformat": 4,
 "nbformat_minor": 2
}
